{
  "nbformat": 4,
  "nbformat_minor": 0,
  "metadata": {
    "colab": {
      "provenance": []
    },
    "kernelspec": {
      "name": "python3",
      "display_name": "Python 3"
    },
    "language_info": {
      "name": "python"
    }
  },
  "cells": [
    {
      "cell_type": "code",
      "source": [
        "import pandas as pd\n",
        "import csv\n",
        "import os\n",
        "\n",
        "#reading and creating dataframes\n",
        "main = pd.read_csv(\"Floor_data.csv\")\n",
        "ethdata = pd.read_csv(\"Ethereum Historical Data - Investing.com.csv\")\n",
        "bidcoindata = pd.read_csv(\"Bitcoin Historical Data - Investing.com.csv\")\n",
        "polygondata = pd.read_csv(\"Polygon Historical Data - Investing.com.csv\")\n",
        "sp500data = pd.read_csv(\"S&P 500 Historical Data.csv\")\n",
        "nikkeidata = pd.read_csv(\"Nikkei 225 Historical Data.csv\")\n",
        "ftsedata = pd.read_csv(\"FTSE 100 Historical Data.csv\")\n",
        "bsedata = pd.read_csv(\"BSE Sensex 30 Historical Data.csv\")\n",
        "chinxdata = pd.read_csv(\"1322 Historical Data.csv\")\n",
        "golddata = pd.read_csv(\"Gold Futures Historical Data.csv\")\n",
        "tipsdata = pd.read_csv(\"United States 10-Year TIPS Bond Yield Historical Data.csv\")\n",
        "print(\"reading the files completed\")\n",
        "\n",
        "#changing to datetimeformat\n",
        "main[\"Date\"] = pd.to_datetime(main[\"Date\"], format=\"%d/%m/%Y\")\n",
        "ethdata[\"Date\"] = pd.to_datetime(ethdata[\"Date\"])\n",
        "bidcoindata[\"Date\"] = pd.to_datetime(bidcoindata[\"Date\"])\n",
        "polygondata[\"Date\"] = pd.to_datetime(polygondata[\"Date\"])\n",
        "sp500data[\"Date\"] = pd.to_datetime(sp500data[\"Date\"])\n",
        "nikkeidata[\"Date\"] = pd.to_datetime(nikkeidata[\"Date\"])\n",
        "ftsedata[\"Date\"] = pd.to_datetime(ftsedata[\"Date\"])\n",
        "bsedata[\"Date\"] = pd.to_datetime(bsedata[\"Date\"])\n",
        "chinxdata[\"Date\"] = pd.to_datetime(chinxdata[\"Date\"])\n",
        "golddata[\"Date\"] = pd.to_datetime(golddata[\"Date\"])\n",
        "tipsdata[\"Date\"] = pd.to_datetime(tipsdata[\"Date\"])\n",
        "print(\"coverting to datetime format completed\")\n",
        "\n",
        "#keeping on required data columns\n",
        "keep_columns = [\"Date\", \"Price\"]\n",
        "ethdata = ethdata.drop(columns=[col for col in ethdata.columns if not any([col == idx for idx in keep_columns])])\n",
        "bidcoindata = bidcoindata.drop(columns=[col for col in bidcoindata.columns if not any([col == idx for idx in keep_columns])])\n",
        "polygondata = polygondata.drop(columns=[col for col in polygondata.columns if not any([col == idx for idx in keep_columns])])\n",
        "sp500data = sp500data.drop(columns=[col for col in sp500data.columns if not any([col == idx for idx in keep_columns])])\n",
        "ftsedata = ftsedata.drop(columns=[col for col in ftsedata.columns if not any([col == idx for idx in keep_columns])])\n",
        "nikkeidata = nikkeidata.drop(columns=[col for col in nikkeidata.columns if not any([col == idx for idx in keep_columns])])\n",
        "bsedata = bsedata.drop(columns=[col for col in bsedata.columns if not any([col == idx for idx in keep_columns])])\n",
        "chinxdata = chinxdata.drop(columns=[col for col in chinxdata.columns if not any([col == idx for idx in keep_columns])])\n",
        "golddata = golddata.drop(columns=[col for col in golddata.columns if not any([col == idx for idx in keep_columns])])\n",
        "tipsdata = tipsdata.drop(columns=[col for col in tipsdata.columns if not any([col == idx for idx in keep_columns])])\n",
        "print(\"dropping unrequired columns completed\")\n",
        "\n",
        "#renaming columns\n",
        "ethdata = ethdata.rename(columns={\"Price\": \"Eth_Price\"})\n",
        "bidcoindata = bidcoindata.rename(columns={\"Price\": \"Bidcoin_Price\"})\n",
        "polygondata = polygondata.rename(columns={\"Price\": \"polygon_Price\"})\n",
        "sp500data = sp500data.rename(columns={\"Price\": \"sp500_Price\"})\n",
        "ftsedata = ftsedata.rename(columns={\"Price\": \"ftse_Price\"})\n",
        "nikkeidata = nikkeidata.rename(columns={\"Price\": \"nikkei_Price\"})\n",
        "bsedata = bsedata.rename(columns={\"Price\": \"bse_Price\"})\n",
        "chinxdata = chinxdata.rename(columns={\"Price\": \"chinx_Price\"})\n",
        "golddata = golddata.rename(columns={\"Price\": \"gold_Price\"})\n",
        "tipsdata = tipsdata.rename(columns={\"Price\": \"tips_Price\"})\n",
        "print(\"renaming completed\")\n",
        "\n",
        "#merging the dataframes\n",
        "finaldf = pd.merge(main, ethdata , left_on=\"Date\", right_on=\"Date\", how =\"left\")\n",
        "finaldf = pd.merge(finaldf, bidcoindata , left_on=\"Date\", right_on=\"Date\", how =\"left\")\n",
        "finaldf = pd.merge(finaldf, polygondata , left_on=\"Date\", right_on=\"Date\", how =\"left\")\n",
        "finaldf = pd.merge(finaldf, sp500data , left_on=\"Date\", right_on=\"Date\", how =\"left\")\n",
        "finaldf = pd.merge(finaldf, nikkeidata , left_on=\"Date\", right_on=\"Date\", how =\"left\")\n",
        "finaldf = pd.merge(finaldf, ftsedata , left_on=\"Date\", right_on=\"Date\", how =\"left\")\n",
        "finaldf = pd.merge(finaldf, bsedata , left_on=\"Date\", right_on=\"Date\", how =\"left\")\n",
        "finaldf = pd.merge(finaldf, chinxdata , left_on=\"Date\", right_on=\"Date\", how =\"left\")\n",
        "finaldf = pd.merge(finaldf, golddata , left_on=\"Date\", right_on=\"Date\", how =\"left\")\n",
        "finaldf = pd.merge(finaldf, tipsdata , left_on=\"Date\", right_on=\"Date\", how =\"left\")\n",
        "print(\"Mering completed\")\n",
        "\n",
        "\n",
        "finaldf['Date'] = pd.to_datetime(finaldf['Date'], format=\"%d/%m/%Y\")\n",
        "finaldf = finaldf.set_index(\"Date\")\n",
        "groups = finaldf.groupby('Collection')\n",
        "filled_groups = [group.bfill().ffill() for _, group in groups]\n",
        "# combine filled groups back into a single dataframe\n",
        "finaldf_filled = pd.concat(filled_groups).reset_index()\n",
        "\n",
        "finaldf_filled.to_csv('final3_out.csv', index=False)\n",
        "\n",
        "nan_counts = finaldf_filled.isna().sum()\n",
        "print(nan_counts)\n",
        "\n"
      ],
      "metadata": {
        "colab": {
          "base_uri": "https://localhost:8080/"
        },
        "id": "2ZwkGhUUBhJW",
        "outputId": "da628002-6ba1-462f-d5f2-7bac21c7a55a"
      },
      "execution_count": 1,
      "outputs": [
        {
          "output_type": "stream",
          "name": "stdout",
          "text": [
            "reading the files completed\n",
            "coverting to datetime format completed\n",
            "dropping unrequired columns completed\n",
            "renaming completed\n",
            "Mering completed\n",
            "Date               0\n",
            "Collection         0\n",
            "ETH_floor_price    0\n",
            "sales_count        0\n",
            "Eth_Price          0\n",
            "Bidcoin_Price      0\n",
            "polygon_Price      0\n",
            "sp500_Price        0\n",
            "nikkei_Price       0\n",
            "ftse_Price         0\n",
            "bse_Price          0\n",
            "chinx_Price        0\n",
            "gold_Price         0\n",
            "tips_Price         0\n",
            "dtype: int64\n"
          ]
        }
      ]
    },
    {
      "cell_type": "code",
      "source": [
        "!pip install node2vec\n"
      ],
      "metadata": {
        "colab": {
          "base_uri": "https://localhost:8080/",
          "height": 415
        },
        "id": "TqjVStbJ0LUf",
        "outputId": "76033ed9-f346-459b-cfef-21ce20822005"
      },
      "execution_count": 3,
      "outputs": [
        {
          "output_type": "stream",
          "name": "stdout",
          "text": [
            "Looking in indexes: https://pypi.org/simple, https://us-python.pkg.dev/colab-wheels/public/simple/\n",
            "Collecting node2vec\n",
            "  Downloading node2vec-0.4.6-py3-none-any.whl (7.0 kB)\n",
            "Requirement already satisfied: numpy<2.0.0,>=1.19.5 in /usr/local/lib/python3.10/dist-packages (from node2vec) (1.22.4)\n",
            "Collecting networkx<3.0,>=2.5\n",
            "  Downloading networkx-2.8.8-py3-none-any.whl (2.0 MB)\n",
            "\u001b[2K     \u001b[90m━━━━━━━━━━━━━━━━━━━━━━━━━━━━━━━━━━━━━━━━\u001b[0m \u001b[32m2.0/2.0 MB\u001b[0m \u001b[31m22.4 MB/s\u001b[0m eta \u001b[36m0:00:00\u001b[0m\n",
            "\u001b[?25hRequirement already satisfied: gensim<5.0.0,>=4.1.2 in /usr/local/lib/python3.10/dist-packages (from node2vec) (4.3.1)\n",
            "Requirement already satisfied: tqdm<5.0.0,>=4.55.1 in /usr/local/lib/python3.10/dist-packages (from node2vec) (4.65.0)\n",
            "Requirement already satisfied: joblib<2.0.0,>=1.1.0 in /usr/local/lib/python3.10/dist-packages (from node2vec) (1.2.0)\n",
            "Requirement already satisfied: smart-open>=1.8.1 in /usr/local/lib/python3.10/dist-packages (from gensim<5.0.0,>=4.1.2->node2vec) (6.3.0)\n",
            "Requirement already satisfied: scipy>=1.7.0 in /usr/local/lib/python3.10/dist-packages (from gensim<5.0.0,>=4.1.2->node2vec) (1.10.1)\n",
            "Installing collected packages: networkx, node2vec\n",
            "  Attempting uninstall: networkx\n",
            "    Found existing installation: networkx 3.1\n",
            "    Uninstalling networkx-3.1:\n",
            "      Successfully uninstalled networkx-3.1\n",
            "Successfully installed networkx-2.8.8 node2vec-0.4.6\n"
          ]
        },
        {
          "output_type": "display_data",
          "data": {
            "application/vnd.colab-display-data+json": {
              "pip_warning": {
                "packages": [
                  "networkx"
                ]
              }
            }
          },
          "metadata": {}
        }
      ]
    },
    {
      "cell_type": "code",
      "execution_count": 4,
      "metadata": {
        "id": "j5lAkqF9BGpz"
      },
      "outputs": [],
      "source": [
        "import pandas as pd\n",
        "import numpy as np\n",
        "from sklearn.preprocessing import OneHotEncoder\n",
        "from sklearn.preprocessing import MinMaxScaler\n",
        "from matplotlib import pyplot as plt\n",
        "from keras.models import Sequential, load_model\n",
        "import os\n",
        "from keras.layers import Dense, LSTM, Dropout,GRU\n",
        "import time\n",
        "import helper\n",
        "import tensorflow as tf\n",
        "from tensorflow.keras.datasets import mnist\n",
        "from IPython.display import clear_output\n",
        "from keras.callbacks import ModelCheckpoint, EarlyStopping\n",
        "import csv\n",
        "import matplotlib.dates as mdates\n",
        "from google.colab import files\n",
        "import networkx as nx\n",
        "from node2vec import Node2Vec\n"
      ]
    },
    {
      "cell_type": "code",
      "source": [
        "start_time = time.time()\n",
        "#reading the file into csv\n",
        "main1 = pd.read_csv(\"final3_out.csv\")\n",
        "nftuse= main1.groupby(\"Collection\").agg({'ETH_floor_price':'mean','sales_count':'mean'}).rename(columns={\"ETH_floor_price\":\"avg_floor\",'sales_count': 'avg_sales'}).reset_index()\n",
        "nftuse = nftuse[(nftuse[\"avg_floor\"]>=50) & (nftuse['avg_sales']>15)]\n",
        "print(nftuse)\n",
        "main = pd.merge(main1,nftuse,on=\"Collection\")\n",
        "print(main.shape, \"shape of main\")\n",
        "#ensuring all the columns are in corrent format\n",
        "main['Date'] = pd.to_datetime(main['Date'])\n",
        "cols = list(main)[2:]\n",
        "print(list(main))\n",
        "main[cols] = main[cols].replace(',', '', regex=True).astype(float)\n",
        "'''\n",
        "main['ETH_floor_price2'] = main['ETH_floor_price']**2\n",
        "main['ETH_floor_price3'] = main['ETH_floor_price']**3\n",
        "main['ETH_floor_price5'] = main['ETH_floor_price']**5\n",
        "main['ETH_floor_pricesin'] = np.sin(main['ETH_floor_price'])\n",
        "main['ETH_floor_pricecos'] = np.cos(main['ETH_floor_price'])\n",
        "main['ETH_floor_priceexp'] = np.exp(main['ETH_floor_price'])\n",
        "\n",
        "main = pd.concat([main.iloc[:,0:3], main.iloc[:,16:],main.iloc[:,3:16]],axis=1)\n",
        "'''\n",
        "print(len(list(main)))\n",
        "print(\"correct formating completed:\", time.time() - start_time)\n",
        "\n"
      ],
      "metadata": {
        "colab": {
          "base_uri": "https://localhost:8080/"
        },
        "id": "SufJPvJmBMLl",
        "outputId": "7e3cdf45-327f-47aa-e090-5cbe0854060c"
      },
      "execution_count": 45,
      "outputs": [
        {
          "output_type": "stream",
          "name": "stdout",
          "text": [
            "              Collection  avg_floor  avg_sales\n",
            "87  bored-ape-yacht-club  72.991272  21.227357\n",
            "(541, 16) shape of main\n",
            "['Date', 'Collection', 'ETH_floor_price', 'sales_count', 'Eth_Price', 'Bidcoin_Price', 'polygon_Price', 'sp500_Price', 'nikkei_Price', 'ftse_Price', 'bse_Price', 'chinx_Price', 'gold_Price', 'tips_Price', 'avg_floor', 'avg_sales']\n",
            "16\n",
            "correct formating completed: 0.7563285827636719\n"
          ]
        }
      ]
    },
    {
      "cell_type": "code",
      "source": [
        "row = list(main)\n",
        "graph = nx.Graph()\n",
        "nodes = [row[2],row[3],row[4],row[5],row[6], row[7],row[8],row[9],row[10], row[11],row[12],row[13]]\n",
        "edges = [(row[2],row[1]),(row[2],row[3]),(row[2],row[4]),(row[2],row[4]),(row[2],row[5]),(row[2],row[6]),(row[2],row[7]),(row[2],row[8]),(row[2],row[9]),(row[2],row[10]),(row[2],row[11]),(row[2],row[12]),(row[2],row[13]),\\\n",
        "         (row[4],row[7]),(row[4],row[8]),(row[4],row[9]),(row[4],row[10]),(row[4],row[12]),(row[4],row[5]),\\\n",
        "         (row[5],row[7]),(row[5],row[8]),(row[5],row[9]),(row[5],row[10]),(row[5],row[12]),\\\n",
        "         (row[7],row[8]),(row[7],row[9]),(row[7],row[10]),(row[7],row[12]),\\\n",
        "         (row[8],row[9]),(row[8],row[10]),(row[8],row[12]),\\\n",
        "         (row[9],row[10]),(row[9],row[12]),\\\n",
        "         (row[10],row[12])]\n",
        "\n",
        "# Add nodes and edges to the graph\n",
        "graph.add_nodes_from(nodes)\n",
        "graph.add_edges_from(edges)\n",
        "pos = nx.spring_layout(graph)\n",
        "nx.draw(graph, with_labels=True)\n",
        "labels = nx.get_node_attributes(graph, 'label')\n",
        "nx.draw_networkx_labels(graph,pos, labels=labels, font_size=12)\n",
        "plt.show()"
      ],
      "metadata": {
        "colab": {
          "base_uri": "https://localhost:8080/",
          "height": 516
        },
        "id": "M1BA7vt17Sof",
        "outputId": "6e7e9334-5233-4898-9cf4-a85c1a004e3f"
      },
      "execution_count": 34,
      "outputs": [
        {
          "output_type": "display_data",
          "data": {
            "text/plain": [
              "<Figure size 640x480 with 1 Axes>"
            ],
            "image/png": "[encoded data removed]"
          },
          "metadata": {}
        }
      ]
    },
    {
      "cell_type": "code",
      "source": [
        "# create a graph for each row\n",
        "graphs = []\n",
        "for i,row in  main.iterrows():\n",
        "    # create an undirected graph\n",
        "    graph = nx.Graph()\n",
        "    nodes = [row[2],row[3],row[4],row[5],row[6], row[7],row[8],row[9],row[10], row[11],row[12],row[13]]\n",
        "    edges = [(row[2],row[1]),(row[2],row[3]),(row[2],row[4]),(row[2],row[4]),(row[2],row[5]),(row[2],row[6]),(row[2],row[7]),(row[2],row[8]),(row[2],row[9]),(row[2],row[10]),(row[2],row[11]),(row[2],row[12]),(row[2],row[13]),\\\n",
        "            (row[4],row[7]),(row[4],row[8]),(row[4],row[9]),(row[4],row[10]),(row[4],row[12]),(row[4],row[5]),\\\n",
        "            (row[5],row[7]),(row[5],row[8]),(row[5],row[9]),(row[5],row[10]),(row[5],row[12]),\\\n",
        "            (row[7],row[8]),(row[7],row[9]),(row[7],row[10]),(row[7],row[12]),\\\n",
        "            (row[8],row[9]),(row[8],row[10]),(row[8],row[12]),\\\n",
        "            (row[9],row[10]),(row[9],row[12]),\\\n",
        "            (row[10],row[12])]\n",
        "    # Add nodes and edges to the graph\n",
        "    graph.add_nodes_from(nodes)\n",
        "    graph.add_edges_from(edges)     \n",
        "    graphs.append(graph)\n",
        "\n",
        "graph = nx.compose_all(graphs)\n",
        "\n",
        "# train the Node2Vec model on the graphs\n",
        "node2vec = Node2Vec(graph, dimensions=64, walk_length=30, num_walks=200, workers=4)\n",
        "model = node2vec.fit(window=10, min_count=1)\n",
        "\n",
        "# get the node embeddings for the third column\n",
        "node_embeddings = np.array([model.wv[str(row[2])] for i, row in main.iterrows()])\n",
        "\n"
      ],
      "metadata": {
        "id": "4Qr6OAM30oMV"
      },
      "execution_count": null,
      "outputs": []
    },
    {
      "cell_type": "code",
      "source": [
        "print(node_embeddings[0])\n",
        "print(node_embeddings[1])"
      ],
      "metadata": {
        "colab": {
          "base_uri": "https://localhost:8080/"
        },
        "id": "3vOHuwzlSzeV",
        "outputId": "ccc2aaf3-8e68-46fc-a6e0-926a899a549c"
      },
      "execution_count": 64,
      "outputs": [
        {
          "output_type": "stream",
          "name": "stdout",
          "text": [
            "[ 0.91595817  0.12360413 -0.14729235 -0.4360433  -0.03032809 -0.69708544\n",
            "  0.12965222 -0.36278883 -0.32730415  0.08326764  0.22647884 -0.04258374\n",
            " -0.9055767   0.07634004 -0.38229048  0.299131   -0.34650415 -0.4764866\n",
            "  0.00452042 -0.1094422   0.60218006  0.16947122 -0.3228441  -1.0577592\n",
            "  0.0111748   0.23241496 -0.32206428  0.20134094 -0.36220098  0.5473946\n",
            " -0.19792098  0.13187942  0.3487286  -0.49967757  0.03284955  0.42622837\n",
            " -0.0810543  -0.9026539   0.8266014  -0.21394019 -0.22072177 -0.35735273\n",
            " -0.43365425  0.13395394 -0.18385556  0.01538879  0.07382333 -0.0400888\n",
            " -0.6932455   0.7206287  -0.0599056  -0.15367973 -0.26443642  0.01654088\n",
            "  0.18783744 -0.20088087  0.07721791 -0.09934195  0.23410681  0.6896263\n",
            " -1.0854845   0.09506363  0.06440051 -0.10711685]\n",
            "[-8.4222764e-02  2.2865455e-01  4.1106230e-01 -8.3455056e-02\n",
            " -2.6068780e-01  5.7151925e-02 -2.7161935e-01 -4.7616002e-01\n",
            " -1.2793927e-01  2.4356493e-01  6.9718021e-01 -5.1115847e-01\n",
            " -1.7305632e-01 -3.8713703e-01 -2.9874468e-01  5.7437855e-01\n",
            " -7.7314687e-01 -4.4912300e-01 -3.8985744e-01  2.6526368e-01\n",
            " -4.7929939e-02 -3.7984777e-02 -1.7431547e-01 -7.2079802e-01\n",
            " -2.3125440e-01  5.0970376e-01 -6.9681537e-01  2.9769215e-01\n",
            "  6.0891980e-01 -2.0185289e-01 -1.8766449e-01 -2.9725835e-01\n",
            "  1.6078761e-01 -1.3319695e-01  3.6546737e-01 -4.9089473e-01\n",
            " -4.1224355e-01 -2.3367427e-02  6.2059327e-03  3.4877810e-01\n",
            " -1.8111619e-01  5.9395507e-02  9.5670795e-05  2.8337103e-01\n",
            "  1.0254943e+00 -1.9770117e-01 -2.7262765e-01 -1.1947596e+00\n",
            "  1.1330214e-01 -2.6029041e-01 -2.4613172e-02  1.2301760e-01\n",
            "  3.3571642e-02  1.4891499e-01 -6.2707436e-01 -7.0639426e-01\n",
            "  6.6205844e-02  2.6062784e-01 -2.8387716e-01  3.6822423e-01\n",
            " -7.3240083e-01  4.5118135e-01  3.9007932e-01  2.0193690e-01]\n"
          ]
        }
      ]
    },
    {
      "cell_type": "code",
      "source": [
        "#creating onehotencoding for collection variable and merging it with main dataframe\n",
        "start_time = time.time()\n",
        "print(main.shape)\n",
        "\n",
        "node_df = pd.DataFrame(node_embeddings)\n",
        "main1 = pd.concat([main,node_df],axis=1)\n",
        "print(main1.shape)\n",
        "\n",
        "enc = OneHotEncoder()\n",
        "enc.fit(main1[['Collection']])\n",
        "onehot = enc.transform(main1[['Collection']]).toarray()\n",
        "onehotdf = pd.concat([main1,pd.DataFrame(onehot)],axis=1)\n",
        "print(\"one hot encoding completed:\", time.time() - start_time)\n",
        "print(list(onehotdf))\n",
        "\n",
        "#sorting and Normalizing the dataset\n",
        "start_time = time.time()\n",
        "onehotdf = onehotdf.sort_values(by=[\"Collection\", \"Date\"])\n",
        "#scaler = MinMaxScaler()\n",
        "#onehotdf[['ETH_floor_price', 'sales_count', 'Eth_Price', 'Bidcoin_Price', 'polygon_Price', 'sp500_Price', 'nikkei_Price', 'ftse_Price', 'bse_Price', 'chinx_Price', 'gold_Price', 'tips_Price', 'avg_floor', 'avg_sales']] = scaler.fit_transform(onehotdf[['ETH_floor_price','ETH_floor_price2', 'ETH_floor_price3', 'ETH_floor_price5', 'ETH_floor_pricesin', 'ETH_floor_pricecos', 'ETH_floor_priceexp', 'sales_count', 'Eth_Price', 'Bidcoin_Price', 'polygon_Price', 'sp500_Price', 'nikkei_Price', 'ftse_Price', 'bse_Price', 'chinx_Price', 'gold_Price', 'tips_Price', 'avg_floor', 'avg_sales']])\n",
        "print(\"sorint and scaling completed:\", time.time() - start_time)\n",
        "onehotdf.shape\n"
      ],
      "metadata": {
        "colab": {
          "base_uri": "https://localhost:8080/"
        },
        "id": "11gtgSO0BQ7P",
        "outputId": "8e2ec351-5397-40ba-dfac-7efccd189300"
      },
      "execution_count": 49,
      "outputs": [
        {
          "output_type": "stream",
          "name": "stdout",
          "text": [
            "(541, 16)\n",
            "(541, 80)\n",
            "one hot encoding completed: 0.011094331741333008\n",
            "['Date', 'Collection', 'ETH_floor_price', 'sales_count', 'Eth_Price', 'Bidcoin_Price', 'polygon_Price', 'sp500_Price', 'nikkei_Price', 'ftse_Price', 'bse_Price', 'chinx_Price', 'gold_Price', 'tips_Price', 'avg_floor', 'avg_sales', 0, 1, 2, 3, 4, 5, 6, 7, 8, 9, 10, 11, 12, 13, 14, 15, 16, 17, 18, 19, 20, 21, 22, 23, 24, 25, 26, 27, 28, 29, 30, 31, 32, 33, 34, 35, 36, 37, 38, 39, 40, 41, 42, 43, 44, 45, 46, 47, 48, 49, 50, 51, 52, 53, 54, 55, 56, 57, 58, 59, 60, 61, 62, 63, 0]\n",
            "sorint and scaling completed: 0.0038650035858154297\n"
          ]
        },
        {
          "output_type": "execute_result",
          "data": {
            "text/plain": [
              "(541, 81)"
            ]
          },
          "metadata": {},
          "execution_count": 49
        }
      ]
    },
    {
      "cell_type": "code",
      "source": [
        "#molding the data into correct input format\n",
        "start_time = time.time()\n",
        "rolling = 30\n",
        "future = 14\n",
        "def windowdata(df):\n",
        "    temp = []\n",
        "    for idx in range(rolling, len(df)-(future-1)):\n",
        "        temp.append(df[idx-rolling:idx])\n",
        "    return np.array(temp)\n",
        "x = []\n",
        "y = []\n",
        "z = []\n",
        "w = []\n",
        "\n",
        "for num in onehotdf[\"Collection\"].unique():\n",
        "    nft_df = onehotdf[onehotdf[\"Collection\"] == num].reset_index(drop=True)\n",
        "    nft_seq = windowdata(nft_df)\n",
        "    x.append(nft_seq)\n",
        "    y.append(nft_df.loc[rolling+(future-1):,\"ETH_floor_price\"].values.reshape(-1,1))\n",
        "    z.append(nft_df.loc[rolling+(future-1):,\"Date\"].values.reshape(-1,1))\n",
        "    w.append(nft_df.loc[rolling+(future-1):,\"Collection\"].values.reshape(-1,1))\n",
        "print(\"correct format completed:\", time.time() - start_time)\n"
      ],
      "metadata": {
        "colab": {
          "base_uri": "https://localhost:8080/"
        },
        "id": "bjV_bS0jBWKv",
        "outputId": "0ec7a1b0-073b-4599-ea81-b43c44910c5d"
      },
      "execution_count": 50,
      "outputs": [
        {
          "output_type": "stream",
          "name": "stdout",
          "text": [
            "correct format completed: 0.40981435775756836\n"
          ]
        }
      ]
    },
    {
      "cell_type": "code",
      "source": [
        "#creating training and valset\n",
        "start_time = time.time()\n",
        "trainx = []\n",
        "trainy = []\n",
        "valx = []\n",
        "valy = []\n",
        "traindate = []\n",
        "valdate = []\n",
        "valcollection = []\n",
        "for idx in range(len(x)):\n",
        "    edge = round(0.8*x[idx].shape[0])\n",
        "    for num in range(edge):\n",
        "        trainx.append(x[idx][num][:,16:])\n",
        "        trainy.append(y[idx][num,0])\n",
        "        traindate.append(z[idx][num,0])\n",
        "    for num in range(edge,x[idx].shape[0]):\n",
        "        valx.append(x[idx][num][:,16:])\n",
        "        valy.append(y[idx][num,0])\n",
        "        valdate.append(z[idx][num,0])\n",
        "        valcollection.append(w[idx][num,0])\n",
        "\n",
        "\n",
        "trainx, trainy, valx, valy = np.array(trainx).astype(float), np.array(trainy).astype(float), np.array(valx).astype(float), np.array(valy).astype(float)\n",
        "print(trainx.shape, \"trainx\")\n",
        "print(trainy.shape, \"trainy\")\n",
        "print(valx.shape, \"valx\")\n",
        "print(valy.shape, \"valy\")\n",
        "print(len(valdate),\"valdate\")\n",
        "print(len(valcollection),\"valdate\")\n",
        "print(\"spliting the data into training and valset completed:\", time.time() - start_time)\n"
      ],
      "metadata": {
        "colab": {
          "base_uri": "https://localhost:8080/"
        },
        "id": "jdK4dE42BcFp",
        "outputId": "b1cb4591-c082-4f8a-8351-c5e49392d518"
      },
      "execution_count": 51,
      "outputs": [
        {
          "output_type": "stream",
          "name": "stdout",
          "text": [
            "(398, 30, 65) trainx\n",
            "(398,) trainy\n",
            "(100, 30, 65) valx\n",
            "(100,) valy\n",
            "100 valdate\n",
            "100 valdate\n",
            "spliting the data into training and valset completed: 0.11633729934692383\n"
          ]
        }
      ]
    },
    {
      "cell_type": "code",
      "source": [
        "#creating a model\n",
        "start_time = time.time()\n",
        "model = Sequential()\n",
        "model.add(GRU(units=64, return_sequences=True, input_shape=(trainx.shape[1], trainx.shape[2])))\n",
        "model.add(Dropout(0.4))\n",
        "model.add(GRU(units=32, return_sequences=True))\n",
        "model.add(Dropout(0.3))\n",
        "model.add(GRU(units=16, return_sequences=False))\n",
        "model.add(Dropout(0.3))\n",
        "model.add(Dense(units=1))\n",
        "\n",
        "class PlotLoss(tf.keras.callbacks.Callback):\n",
        "    def on_train_begin(self, logs={}):\n",
        "        self.i = 0\n",
        "        self.x = []\n",
        "        self.losses = []\n",
        "        self.val_losses = []\n",
        "        self.fig = plt.figure()\n",
        "        self.logs = []\n",
        "        \n",
        "    def on_epoch_end(self, epoch, logs={}):\n",
        "        self.logs.append(logs)\n",
        "        self.x.append(self.i)\n",
        "        self.losses.append(logs.get('loss'))\n",
        "        self.val_losses.append(logs.get('val_loss'))\n",
        "        self.i += 1\n",
        "        clear_output(wait=True)\n",
        "        plt.plot(self.x, self.losses, label=\"loss\")\n",
        "        plt.plot(self.x, self.val_losses, label=\"val_loss\")\n",
        "        plt.legend()\n",
        "        plt.show()\n",
        "        \n",
        "plot_loss = PlotLoss()\n",
        "early_stop = EarlyStopping(monitor='val_loss', patience=25, verbose=1)\n",
        "checkpoint_filepath = 'best_model.h6'\n",
        "# Define the callback to save only the best model based on validation loss\n",
        "checkpoint_callback = ModelCheckpoint(\n",
        "    filepath=checkpoint_filepath,\n",
        "    monitor='val_loss',\n",
        "    mode='min',\n",
        "    save_best_only=True,\n",
        "    save_weights_only=False,\n",
        "    verbose=1\n",
        ")\n",
        "\n",
        "\n",
        "# Compile model\n",
        "model.compile(tf.keras.optimizers.Adam(learning_rate=0.01), loss='mean_squared_error')\n",
        "model.summary()\n",
        "\n",
        "# Train model\n",
        "history = model.fit(trainx, trainy, validation_data=(valx, valy), epochs=100, batch_size=64, verbose =1,callbacks=[plot_loss, early_stop,checkpoint_callback])\n",
        "print(\"creating and training model completed:\", time.time() - start_time)\n",
        "\n"
      ],
      "metadata": {
        "colab": {
          "base_uri": "https://localhost:8080/",
          "height": 499
        },
        "id": "jms-6hrgBg9t",
        "outputId": "cf66ca34-142d-4e15-9cd4-c48b0353652c"
      },
      "execution_count": 53,
      "outputs": [
        {
          "output_type": "display_data",
          "data": {
            "text/plain": [
              "<Figure size 640x480 with 1 Axes>"
            ],
            "image/png": "[encoded data removed]"
          },
          "metadata": {}
        },
        {
          "output_type": "stream",
          "name": "stdout",
          "text": [
            "\n",
            "Epoch 100: val_loss did not improve from 26.54206\n",
            "7/7 [==============================] - 1s 178ms/step - loss: 508.3124 - val_loss: 52.8610\n",
            "creating and training model completed: 1289.9353051185608\n"
          ]
        }
      ]
    },
    {
      "cell_type": "code",
      "source": [
        "#accuracy calculations\n",
        "def accuracy(df, per):\n",
        "    df[\"variance_per\"] = ((df[\"val_true_price\"] -df[\"val_predicted_price\"])/df[\"val_true_price\"]*100).abs()\n",
        "    #df[\"correct_pred\"] = np.where(((df[\"variance_per\"]<=per) &(df[\"variance_per\"]>=-per)),1,0)\n",
        "    result = df.groupby('Collection').agg({'val_true_price':'mean','variance_per':'sum','Collection':'count'}).rename(columns={\"val_true_price\":\"average_true_price\",'variance_per':'variance_total','Collection':'no_of_dates'}).reset_index()\n",
        "    result[\"per_variance\"] = result[\"variance_total\"]/result[\"no_of_dates\"]*100\n",
        "    return result, 100 - df[\"variance_per\"].sum()/result[\"no_of_dates\"].sum(), result[\"no_of_dates\"]\n"
      ],
      "metadata": {
        "id": "2HealSw4BtRI"
      },
      "execution_count": 54,
      "outputs": []
    },
    {
      "cell_type": "code",
      "source": [
        "#predicting the future prices\n",
        "start_time = time.time()\n",
        "best_model = load_model(checkpoint_filepath)\n",
        "val_predicted_price = np.squeeze(best_model.predict(valx))\n",
        "#val_predicted_price_copies = np.repeat(val_predicted_price, 20,axis=1)\n",
        "#val_predicted_price = scaler.inverse_transform(val_predicted_price_copies)[:,0]\n",
        "#valy_copies = np.repeat(valy.reshape(-1,1), 20,axis=1)\n",
        "#val_true_price = scaler.inverse_transform(valy_copies)[:,0]\n",
        "val_true_price = valy\n",
        "print(\"predicting completed:\", time.time() - start_time)\n",
        "print(np.array(valdate).shape)\n",
        "print(np.array(valcollection).shape)\n",
        "print(val_predicted_price.shape)\n",
        "print(val_true_price.shape)\n",
        "\n",
        "cum_results = pd.DataFrame({\"Date\":np.array(valdate), \"Collection\":np.array(valcollection),\"val_predicted_price\":val_predicted_price, \"val_true_price\":val_true_price})\n",
        "result_table , final_per,check = accuracy(cum_results,10)\n",
        "print(\"prediction accuracy\",final_per)\n",
        "result_table.to_csv('results.csv', index=False)\n",
        "cum_results.to_csv(\"full_results.csv\", index=False)\n",
        "\n",
        "print(check)\n",
        "\n",
        "#displaying results\n",
        "start_time = time.time()\n",
        "df_forecast = pd.DataFrame({\"Date\":np.array(valdate), \"val_predicted_price\":val_predicted_price})\n",
        "df_true = pd.DataFrame({\"Date\":np.array(valdate), \"val_true_price\":val_true_price})\n",
        "valunidates = np.unique(valdate)\n",
        "\n",
        "\n",
        "valuespred = [df_forecast.loc[df_forecast['Date'] == a, 'val_predicted_price'].sum() for a in valunidates]\n",
        "valuestrue = [df_true.loc[df_true['Date'] == a, 'val_true_price'].sum() for a in valunidates]\n",
        "\n",
        "valunidates = pd.to_datetime(valunidates, format='%Y-%m-%d')\n",
        "\n",
        "plt.plot(valunidates, valuespred, label=\"predicted values\")\n",
        "plt.plot(valunidates, valuestrue, label=\"true values\")\n",
        "plt.xlabel('Predicted Date')\n",
        "plt.ylabel('Floor Price')\n",
        "plt.gca().xaxis.set_major_locator(mdates.DayLocator(interval=7))  # set ticks every 7 days\n",
        "plt.gca().xaxis.set_major_formatter(mdates.DateFormatter('%Y-%m-%d'))  # format dates as year-month-day\n",
        "\n",
        "# rotate the tick labels for better visibility\n",
        "plt.gcf().autofmt_xdate()\n",
        "\n",
        "plt.legend()\n",
        "plt.show()\n",
        "print(\"display results completed:\", time.time() - start_time)\n",
        "plt.savefig('my_plot.png')\n",
        "# download the file to your local computer\n",
        "files.download('my_plot.png')"
      ],
      "metadata": {
        "id": "ULfeJ41gBlQY"
      },
      "execution_count": null,
      "outputs": []
    },
    {
      "cell_type": "code",
      "source": [
        "print(valx[1])\n",
        "print(valx[2])"
      ],
      "metadata": {
        "colab": {
          "base_uri": "https://localhost:8080/"
        },
        "id": "x3fEzPMGT3b2",
        "outputId": "df7d6aad-e3ce-4161-ccf5-b25eb0cff862"
      },
      "execution_count": 68,
      "outputs": [
        {
          "output_type": "stream",
          "name": "stdout",
          "text": [
            "[[-0.44752049  0.09204505 -0.02754325 ... -0.24760599 -0.56467682\n",
            "   1.        ]\n",
            " [-0.0577599  -0.55291998  0.64704919 ... -0.14812484  0.11688784\n",
            "   1.        ]\n",
            " [-0.0577599  -0.55291998  0.64704919 ... -0.14812484  0.11688784\n",
            "   1.        ]\n",
            " ...\n",
            " [-0.54686213 -0.41090757  0.3670702  ... -0.48489657 -0.25323278\n",
            "   1.        ]\n",
            " [ 0.06587317 -0.41925704  0.762106   ... -0.93623775 -0.10402913\n",
            "   1.        ]\n",
            " [-0.0577599  -0.55291998  0.64704919 ... -0.14812484  0.11688784\n",
            "   1.        ]]\n",
            "[[-0.0577599  -0.55291998  0.64704919 ... -0.14812484  0.11688784\n",
            "   1.        ]\n",
            " [-0.0577599  -0.55291998  0.64704919 ... -0.14812484  0.11688784\n",
            "   1.        ]\n",
            " [ 0.08912598 -0.27457768  0.54284602 ... -0.07544301  0.52180171\n",
            "   1.        ]\n",
            " ...\n",
            " [ 0.06587317 -0.41925704  0.762106   ... -0.93623775 -0.10402913\n",
            "   1.        ]\n",
            " [-0.0577599  -0.55291998  0.64704919 ... -0.14812484  0.11688784\n",
            "   1.        ]\n",
            " [-0.0577599  -0.55291998  0.64704919 ... -0.14812484  0.11688784\n",
            "   1.        ]]\n"
          ]
        }
      ]
    },
    {
      "cell_type": "code",
      "source": [
        "a, b, c = trainx.shape\n",
        "#for idx in range(len)\n",
        "\n",
        "with open('output.csv', mode='w', newline='') as file:\n",
        "  # Create a CSV writer object\n",
        "  writer = csv.writer(file)\n",
        "  for idx in range(a):\n",
        "    writer.writerow(np.array([traindate[idx],trainy[idx]]))\n",
        "    for num in range(b):\n",
        "      writer.writerow(trainx[idx][num])"
      ],
      "metadata": {
        "id": "aVO6aqJANRdy"
      },
      "execution_count": null,
      "outputs": []
    },
    {
      "cell_type": "code",
      "source": [
        "trainx[0][0]"
      ],
      "metadata": {
        "colab": {
          "base_uri": "https://localhost:8080/"
        },
        "id": "Cj000zAT9oNv",
        "outputId": "817bfccb-285a-4fef-a5d2-82892481cd89"
      },
      "execution_count": null,
      "outputs": [
        {
          "output_type": "execute_result",
          "data": {
            "text/plain": [
              "array([0.08982036, 0.08982036, 0.08982036, 0.08982036, 0.08982036,\n",
              "       0.08982036, 0.08982036, 0.08856089, 0.52585915, 0.54195514,\n",
              "       0.30933544, 0.59900945, 0.93017312, 0.21905299, 0.65129904,\n",
              "       0.43089858, 0.3057711 , 0.85961945, 0.        , 0.        ,\n",
              "       1.        ])"
            ]
          },
          "metadata": {},
          "execution_count": 52
        }
      ]
    }
  ]
}
