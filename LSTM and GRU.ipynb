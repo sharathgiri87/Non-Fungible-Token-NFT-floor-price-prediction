{
  "nbformat": 4,
  "nbformat_minor": 0,
  "metadata": {
    "colab": {
      "provenance": []
    },
    "kernelspec": {
      "name": "python3",
      "display_name": "Python 3"
    },
    "language_info": {
      "name": "python"
    }
  },
  "cells": [
    {
      "cell_type": "code",
      "source": [
        "import pandas as pd\n",
        "import csv\n",
        "import os\n",
        "\n",
        "#reading and creating dataframes\n",
        "main = pd.read_csv(\"Floor_data.csv\")\n",
        "ethdata = pd.read_csv(\"Ethereum Historical Data - Investing.com.csv\")\n",
        "bidcoindata = pd.read_csv(\"Bitcoin Historical Data - Investing.com.csv\")\n",
        "polygondata = pd.read_csv(\"Polygon Historical Data - Investing.com.csv\")\n",
        "sp500data = pd.read_csv(\"S&P 500 Historical Data.csv\")\n",
        "nikkeidata = pd.read_csv(\"Nikkei 225 Historical Data.csv\")\n",
        "ftsedata = pd.read_csv(\"FTSE 100 Historical Data.csv\")\n",
        "bsedata = pd.read_csv(\"BSE Sensex 30 Historical Data.csv\")\n",
        "chinxdata = pd.read_csv(\"1322 Historical Data.csv\")\n",
        "golddata = pd.read_csv(\"Gold Futures Historical Data.csv\")\n",
        "tipsdata = pd.read_csv(\"United States 10-Year TIPS Bond Yield Historical Data.csv\")\n",
        "print(\"reading the files completed\")\n",
        "\n",
        "#changing to datetimeformat\n",
        "main[\"Date\"] = pd.to_datetime(main[\"Date\"], format=\"%d/%m/%Y\")\n",
        "ethdata[\"Date\"] = pd.to_datetime(ethdata[\"Date\"])\n",
        "bidcoindata[\"Date\"] = pd.to_datetime(bidcoindata[\"Date\"])\n",
        "polygondata[\"Date\"] = pd.to_datetime(polygondata[\"Date\"])\n",
        "sp500data[\"Date\"] = pd.to_datetime(sp500data[\"Date\"])\n",
        "nikkeidata[\"Date\"] = pd.to_datetime(nikkeidata[\"Date\"])\n",
        "ftsedata[\"Date\"] = pd.to_datetime(ftsedata[\"Date\"])\n",
        "bsedata[\"Date\"] = pd.to_datetime(bsedata[\"Date\"])\n",
        "chinxdata[\"Date\"] = pd.to_datetime(chinxdata[\"Date\"])\n",
        "golddata[\"Date\"] = pd.to_datetime(golddata[\"Date\"])\n",
        "tipsdata[\"Date\"] = pd.to_datetime(tipsdata[\"Date\"])\n",
        "print(\"coverting to datetime format completed\")\n",
        "\n",
        "#keeping on required data columns\n",
        "keep_columns = [\"Date\", \"Price\"]\n",
        "ethdata = ethdata.drop(columns=[col for col in ethdata.columns if not any([col == idx for idx in keep_columns])])\n",
        "bidcoindata = bidcoindata.drop(columns=[col for col in bidcoindata.columns if not any([col == idx for idx in keep_columns])])\n",
        "polygondata = polygondata.drop(columns=[col for col in polygondata.columns if not any([col == idx for idx in keep_columns])])\n",
        "sp500data = sp500data.drop(columns=[col for col in sp500data.columns if not any([col == idx for idx in keep_columns])])\n",
        "ftsedata = ftsedata.drop(columns=[col for col in ftsedata.columns if not any([col == idx for idx in keep_columns])])\n",
        "nikkeidata = nikkeidata.drop(columns=[col for col in nikkeidata.columns if not any([col == idx for idx in keep_columns])])\n",
        "bsedata = bsedata.drop(columns=[col for col in bsedata.columns if not any([col == idx for idx in keep_columns])])\n",
        "chinxdata = chinxdata.drop(columns=[col for col in chinxdata.columns if not any([col == idx for idx in keep_columns])])\n",
        "golddata = golddata.drop(columns=[col for col in golddata.columns if not any([col == idx for idx in keep_columns])])\n",
        "tipsdata = tipsdata.drop(columns=[col for col in tipsdata.columns if not any([col == idx for idx in keep_columns])])\n",
        "print(\"dropping unrequired columns completed\")\n",
        "\n",
        "#renaming columns\n",
        "ethdata = ethdata.rename(columns={\"Price\": \"Eth_Price\"})\n",
        "bidcoindata = bidcoindata.rename(columns={\"Price\": \"Bidcoin_Price\"})\n",
        "polygondata = polygondata.rename(columns={\"Price\": \"polygon_Price\"})\n",
        "sp500data = sp500data.rename(columns={\"Price\": \"sp500_Price\"})\n",
        "ftsedata = ftsedata.rename(columns={\"Price\": \"ftse_Price\"})\n",
        "nikkeidata = nikkeidata.rename(columns={\"Price\": \"nikkei_Price\"})\n",
        "bsedata = bsedata.rename(columns={\"Price\": \"bse_Price\"})\n",
        "chinxdata = chinxdata.rename(columns={\"Price\": \"chinx_Price\"})\n",
        "golddata = golddata.rename(columns={\"Price\": \"gold_Price\"})\n",
        "tipsdata = tipsdata.rename(columns={\"Price\": \"tips_Price\"})\n",
        "print(\"renaming completed\")\n",
        "\n",
        "#merging the dataframes\n",
        "finaldf = pd.merge(main, ethdata , left_on=\"Date\", right_on=\"Date\", how =\"left\")\n",
        "finaldf = pd.merge(finaldf, bidcoindata , left_on=\"Date\", right_on=\"Date\", how =\"left\")\n",
        "finaldf = pd.merge(finaldf, polygondata , left_on=\"Date\", right_on=\"Date\", how =\"left\")\n",
        "finaldf = pd.merge(finaldf, sp500data , left_on=\"Date\", right_on=\"Date\", how =\"left\")\n",
        "finaldf = pd.merge(finaldf, nikkeidata , left_on=\"Date\", right_on=\"Date\", how =\"left\")\n",
        "finaldf = pd.merge(finaldf, ftsedata , left_on=\"Date\", right_on=\"Date\", how =\"left\")\n",
        "finaldf = pd.merge(finaldf, bsedata , left_on=\"Date\", right_on=\"Date\", how =\"left\")\n",
        "finaldf = pd.merge(finaldf, chinxdata , left_on=\"Date\", right_on=\"Date\", how =\"left\")\n",
        "finaldf = pd.merge(finaldf, golddata , left_on=\"Date\", right_on=\"Date\", how =\"left\")\n",
        "finaldf = pd.merge(finaldf, tipsdata , left_on=\"Date\", right_on=\"Date\", how =\"left\")\n",
        "print(\"Mering completed\")\n",
        "\n",
        "\n",
        "finaldf['Date'] = pd.to_datetime(finaldf['Date'], format=\"%d/%m/%Y\")\n",
        "finaldf = finaldf.set_index(\"Date\")\n",
        "groups = finaldf.groupby('Collection')\n",
        "filled_groups = [group.bfill().ffill() for _, group in groups]\n",
        "# combine filled groups back into a single dataframe\n",
        "finaldf_filled = pd.concat(filled_groups).reset_index()\n",
        "\n",
        "finaldf_filled.to_csv('final3_out.csv', index=False)\n",
        "\n",
        "nan_counts = finaldf_filled.isna().sum()\n",
        "print(nan_counts)\n",
        "\n"
      ],
      "metadata": {
        "colab": {
          "base_uri": "https://localhost:8080/"
        },
        "id": "2ZwkGhUUBhJW",
        "outputId": "3d47f81b-486a-42b9-b5cb-e4aa845f5a85"
      },
      "execution_count": null,
      "outputs": [
        {
          "output_type": "stream",
          "name": "stdout",
          "text": [
            "reading the files completed\n",
            "coverting to datetime format completed\n",
            "dropping unrequired columns completed\n",
            "renaming completed\n",
            "Mering completed\n",
            "Date               0\n",
            "Collection         0\n",
            "ETH_floor_price    0\n",
            "sales_count        0\n",
            "Eth_Price          0\n",
            "Bidcoin_Price      0\n",
            "polygon_Price      0\n",
            "sp500_Price        0\n",
            "nikkei_Price       0\n",
            "ftse_Price         0\n",
            "bse_Price          0\n",
            "chinx_Price        0\n",
            "gold_Price         0\n",
            "tips_Price         0\n",
            "dtype: int64\n"
          ]
        }
      ]
    },
    {
      "cell_type": "code",
      "execution_count": null,
      "metadata": {
        "id": "j5lAkqF9BGpz"
      },
      "outputs": [],
      "source": [
        "import pandas as pd\n",
        "import numpy as np\n",
        "from sklearn.preprocessing import OneHotEncoder\n",
        "from sklearn.preprocessing import MinMaxScaler\n",
        "from matplotlib import pyplot as plt\n",
        "from keras.models import Sequential, load_model\n",
        "import os\n",
        "from keras.layers import Dense, LSTM, Dropout,GRU\n",
        "import time\n",
        "import helper\n",
        "import tensorflow as tf\n",
        "from tensorflow.keras.datasets import mnist\n",
        "from IPython.display import clear_output\n",
        "from keras.callbacks import ModelCheckpoint, EarlyStopping\n",
        "import csv\n",
        "import matplotlib.dates as mdates\n",
        "from google.colab import files\n"
      ]
    },
    {
      "cell_type": "code",
      "source": [
        "start_time = time.time()\n",
        "#reading the file into csv\n",
        "main1 = pd.read_csv(\"final3_out.csv\")\n",
        "nftuse= main1.groupby(\"Collection\").agg({'ETH_floor_price':'mean','sales_count':'mean'}).rename(columns={\"ETH_floor_price\":\"avg_floor\",'sales_count': 'avg_sales'}).reset_index()\n",
        "nftuse = nftuse[(nftuse[\"avg_floor\"]>=5) & (nftuse['avg_sales']>15)]\n",
        "print(nftuse)\n",
        "main = pd.merge(main1,nftuse,on=\"Collection\")\n",
        "print(main.shape, \"shape of main\")\n",
        "#ensuring all the columns are in corrent format\n",
        "main['Date'] = pd.to_datetime(main['Date'])\n",
        "cols = list(main)[2:]\n",
        "print(list(main))\n",
        "main[cols] = main[cols].replace(',', '', regex=True).astype(float)\n",
        "main['ETH_floor_price2'] = main['ETH_floor_price']**2\n",
        "main['ETH_floor_price3'] = main['ETH_floor_price']**3\n",
        "main['ETH_floor_price5'] = main['ETH_floor_price']**5\n",
        "main['ETH_floor_pricesin'] = np.sin(main['ETH_floor_price'])\n",
        "main['ETH_floor_pricecos'] = np.cos(main['ETH_floor_price'])\n",
        "main['ETH_floor_priceexp'] = np.exp(main['ETH_floor_price'])\n",
        "\n",
        "main = pd.concat([main.iloc[:,0:3], main.iloc[:,16:],main.iloc[:,3:16]],axis=1)\n",
        "\n",
        "print(len(list(main)))\n",
        "print(\"correct formating completed:\", time.time() - start_time)\n",
        "\n"
      ],
      "metadata": {
        "colab": {
          "base_uri": "https://localhost:8080/"
        },
        "id": "SufJPvJmBMLl",
        "outputId": "7a254580-c94a-4377-c7d6-a11e838dc559"
      },
      "execution_count": null,
      "outputs": [
        {
          "output_type": "stream",
          "name": "stdout",
          "text": [
            "                Collection  avg_floor  avg_sales\n",
            "65                   azuki  11.925979  64.176329\n",
            "86   bored-ape-kennel-club   6.054502  52.772643\n",
            "87    bored-ape-yacht-club  72.991272  21.227357\n",
            "117                 clonex   8.624852  82.997849\n",
            "191                doodles   8.881820  63.658333\n",
            "384  mutant-ape-yacht-club  14.200753  84.780037\n",
            "445        proof-moonbirds  12.638550  71.576023\n",
            "(3324, 16) shape of main\n",
            "['Date', 'Collection', 'ETH_floor_price', 'sales_count', 'Eth_Price', 'Bidcoin_Price', 'polygon_Price', 'sp500_Price', 'nikkei_Price', 'ftse_Price', 'bse_Price', 'chinx_Price', 'gold_Price', 'tips_Price', 'avg_floor', 'avg_sales']\n",
            "22\n",
            "correct formating completed: 0.573040246963501\n"
          ]
        }
      ]
    },
    {
      "cell_type": "code",
      "source": [
        "#creating onehotencoding for collection variable and merging it with main dataframe\n",
        "start_time = time.time()\n",
        "enc = OneHotEncoder()\n",
        "enc.fit(main[['Collection']])\n",
        "onehot = enc.transform(main[['Collection']]).toarray()\n",
        "onehotdf = pd.concat([main,pd.DataFrame(onehot)],axis=1)\n",
        "print(\"one hot encoding completed:\", time.time() - start_time)\n",
        "print(list(onehotdf))\n",
        "\n",
        "#sorting and Normalizing the dataset\n",
        "start_time = time.time()\n",
        "onehotdf = onehotdf.sort_values(by=[\"Collection\", \"Date\"])\n",
        "scaler = MinMaxScaler()\n",
        "onehotdf[['ETH_floor_price', 'ETH_floor_price2', 'ETH_floor_price3', 'ETH_floor_price5', 'ETH_floor_pricesin', 'ETH_floor_pricecos', 'ETH_floor_priceexp','sales_count', 'Eth_Price', 'Bidcoin_Price', 'polygon_Price', 'sp500_Price', 'nikkei_Price', 'ftse_Price', 'bse_Price', 'chinx_Price', 'gold_Price', 'tips_Price', 'avg_floor', 'avg_sales']] = scaler.fit_transform(onehotdf[['ETH_floor_price','ETH_floor_price2', 'ETH_floor_price3', 'ETH_floor_price5', 'ETH_floor_pricesin', 'ETH_floor_pricecos', 'ETH_floor_priceexp', 'sales_count', 'Eth_Price', 'Bidcoin_Price', 'polygon_Price', 'sp500_Price', 'nikkei_Price', 'ftse_Price', 'bse_Price', 'chinx_Price', 'gold_Price', 'tips_Price', 'avg_floor', 'avg_sales']])\n",
        "print(\"sorint and scaling completed:\", time.time() - start_time)\n",
        "onehotdf.shape"
      ],
      "metadata": {
        "colab": {
          "base_uri": "https://localhost:8080/"
        },
        "id": "11gtgSO0BQ7P",
        "outputId": "b7cf2c2c-37b4-4635-fd2e-1946cdd42d8c"
      },
      "execution_count": null,
      "outputs": [
        {
          "output_type": "stream",
          "name": "stdout",
          "text": [
            "one hot encoding completed: 0.018065929412841797\n",
            "['Date', 'Collection', 'ETH_floor_price', 'ETH_floor_price2', 'ETH_floor_price3', 'ETH_floor_price5', 'ETH_floor_pricesin', 'ETH_floor_pricecos', 'ETH_floor_priceexp', 'sales_count', 'Eth_Price', 'Bidcoin_Price', 'polygon_Price', 'sp500_Price', 'nikkei_Price', 'ftse_Price', 'bse_Price', 'chinx_Price', 'gold_Price', 'tips_Price', 'avg_floor', 'avg_sales', 0, 1, 2, 3, 4, 5, 6]\n",
            "sorint and scaling completed: 0.015274286270141602\n"
          ]
        },
        {
          "output_type": "execute_result",
          "data": {
            "text/plain": [
              "(3324, 29)"
            ]
          },
          "metadata": {},
          "execution_count": 4
        }
      ]
    },
    {
      "cell_type": "code",
      "source": [
        "#molding the data into correct input format\n",
        "start_time = time.time()\n",
        "rolling = 30\n",
        "future = 14\n",
        "def windowdata(df):\n",
        "    temp = []\n",
        "    for idx in range(rolling, len(df)-(future-1)):\n",
        "        temp.append(df[idx-rolling:idx])\n",
        "    return np.array(temp)\n",
        "x = []\n",
        "y = []\n",
        "z = []\n",
        "w = []\n",
        "\n",
        "for num in onehotdf[\"Collection\"].unique():\n",
        "    nft_df = onehotdf[onehotdf[\"Collection\"] == num].reset_index(drop=True)\n",
        "    nft_seq = windowdata(nft_df)\n",
        "    x.append(nft_seq)\n",
        "    y.append(nft_df.loc[rolling+(future-1):,\"ETH_floor_price\"].values.reshape(-1,1))\n",
        "    z.append(nft_df.loc[rolling+(future-1):,\"Date\"].values.reshape(-1,1))\n",
        "    w.append(nft_df.loc[rolling+(future-1):,\"Collection\"].values.reshape(-1,1))\n",
        "print(\"correct format completed:\", time.time() - start_time)\n"
      ],
      "metadata": {
        "colab": {
          "base_uri": "https://localhost:8080/"
        },
        "id": "bjV_bS0jBWKv",
        "outputId": "52c1d98b-3937-412b-b5b5-839cbce2c407"
      },
      "execution_count": null,
      "outputs": [
        {
          "output_type": "stream",
          "name": "stdout",
          "text": [
            "correct format completed: 1.9912571907043457\n"
          ]
        }
      ]
    },
    {
      "cell_type": "code",
      "source": [
        "#creating training and valset\n",
        "start_time = time.time()\n",
        "trainx = []\n",
        "trainy = []\n",
        "valx = []\n",
        "valy = []\n",
        "traindate = []\n",
        "valdate = []\n",
        "valcollection = []\n",
        "for idx in range(len(x)):\n",
        "    edge = round(0.8*x[idx].shape[0])\n",
        "    for num in range(edge):\n",
        "        trainx.append(x[idx][num][:,2:])\n",
        "        trainy.append(y[idx][num,0])\n",
        "        traindate.append(z[idx][num,0])\n",
        "    for num in range(edge,x[idx].shape[0]):\n",
        "        valx.append(x[idx][num][:,2:])\n",
        "        valy.append(y[idx][num,0])\n",
        "        valdate.append(z[idx][num,0])\n",
        "        valcollection.append(w[idx][num,0])\n",
        "\n",
        "\n",
        "trainx, trainy, valx, valy = np.array(trainx).astype(float), np.array(trainy).astype(float), np.array(valx).astype(float), np.array(valy).astype(float)\n",
        "print(trainx.shape, \"trainx\")\n",
        "print(trainy.shape, \"trainy\")\n",
        "print(valx.shape, \"valx\")\n",
        "print(valy.shape, \"valy\")\n",
        "print(len(valdate),\"valdate\")\n",
        "print(len(valcollection),\"valdate\")\n",
        "print(\"spliting the data into training and valset completed:\", time.time() - start_time)\n"
      ],
      "metadata": {
        "colab": {
          "base_uri": "https://localhost:8080/"
        },
        "id": "jdK4dE42BcFp",
        "outputId": "96755f0c-bc98-4fbb-cc43-3d0a25c68f65"
      },
      "execution_count": null,
      "outputs": [
        {
          "output_type": "stream",
          "name": "stdout",
          "text": [
            "(2418, 30, 27) trainx\n",
            "(2418,) trainy\n",
            "(605, 30, 27) valx\n",
            "(605,) valy\n",
            "605 valdate\n",
            "605 valdate\n",
            "spliting the data into training and valset completed: 0.13736701011657715\n"
          ]
        }
      ]
    },
    {
      "cell_type": "code",
      "source": [
        "#creating a model\n",
        "start_time = time.time()\n",
        "model = Sequential()\n",
        "model.add(GRU(units=64, return_sequences=True, input_shape=(trainx.shape[1], trainx.shape[2])))\n",
        "model.add(Dropout(0.4))\n",
        "model.add(GRU(units=32, return_sequences=True))\n",
        "model.add(Dropout(0.3))\n",
        "model.add(GRU(units=16, return_sequences=False))\n",
        "model.add(Dropout(0.3))\n",
        "model.add(Dense(units=1))\n",
        "\n",
        "class PlotLoss(tf.keras.callbacks.Callback):\n",
        "    def on_train_begin(self, logs={}):\n",
        "        self.i = 0\n",
        "        self.x = []\n",
        "        self.losses = []\n",
        "        self.val_losses = []\n",
        "        self.fig = plt.figure()\n",
        "        self.logs = []\n",
        "        \n",
        "    def on_epoch_end(self, epoch, logs={}):\n",
        "        self.logs.append(logs)\n",
        "        self.x.append(self.i)\n",
        "        self.losses.append(logs.get('loss'))\n",
        "        self.val_losses.append(logs.get('val_loss'))\n",
        "        self.i += 1\n",
        "        clear_output(wait=True)\n",
        "        plt.plot(self.x, self.losses, label=\"loss\")\n",
        "        plt.plot(self.x, self.val_losses, label=\"val_loss\")\n",
        "        plt.legend()\n",
        "        plt.show()\n",
        "        \n",
        "plot_loss = PlotLoss()\n",
        "early_stop = EarlyStopping(monitor='val_loss', patience=25, verbose=1)\n",
        "checkpoint_filepath = 'best_model.h6'\n",
        "# Define the callback to save only the best model based on validation loss\n",
        "checkpoint_callback = ModelCheckpoint(\n",
        "    filepath=checkpoint_filepath,\n",
        "    monitor='val_loss',\n",
        "    mode='min',\n",
        "    save_best_only=True,\n",
        "    save_weights_only=False,\n",
        "    verbose=1\n",
        ")\n",
        "\n",
        "\n",
        "# Compile model\n",
        "model.compile(tf.keras.optimizers.Adam(learning_rate=0.001), loss='mean_squared_error')\n",
        "model.summary()\n",
        "\n",
        "# Train model\n",
        "history = model.fit(trainx, trainy, validation_data=(valx, valy), epochs=100, batch_size=64, verbose =1,callbacks=[plot_loss, early_stop,checkpoint_callback])\n",
        "print(\"creating and training model completed:\", time.time() - start_time)\n",
        "\n"
      ],
      "metadata": {
        "colab": {
          "base_uri": "https://localhost:8080/",
          "height": 517
        },
        "id": "jms-6hrgBg9t",
        "outputId": "fe44edac-aaa7-4424-f597-dd2c2e6adae7"
      },
      "execution_count": null,
      "outputs": [
        {
          "output_type": "display_data",
          "data": {
            "text/plain": [
              "<Figure size 640x480 with 1 Axes>"
            ],
            "image/png": "[encoded data removed]"
          },
          "metadata": {}
        },
        {
          "output_type": "stream",
          "name": "stdout",
          "text": [
            "\n",
            "Epoch 96: val_loss did not improve from 0.00066\n",
            "38/38 [==============================] - 2s 65ms/step - loss: 0.0015 - val_loss: 0.0024\n",
            "Epoch 96: early stopping\n",
            "creating and training model completed: 393.0011205673218\n"
          ]
        }
      ]
    },
    {
      "cell_type": "code",
      "source": [
        "#accuracy calculations\n",
        "def accuracy(df, per):\n",
        "    df[\"variance_per\"] = ((df[\"val_true_price\"] -df[\"val_predicted_price\"])/df[\"val_true_price\"]*100).abs()\n",
        "    #df[\"correct_pred\"] = np.where(((df[\"variance_per\"]<=per) &(df[\"variance_per\"]>=-per)),1,0)\n",
        "    result = df.groupby('Collection').agg({'val_true_price':'mean','variance_per':'sum','Collection':'count'}).rename(columns={\"val_true_price\":\"average_true_price\",'variance_per':'variance_total','Collection':'no_of_dates'}).reset_index()\n",
        "    result[\"per_variance\"] = result[\"variance_total\"]/result[\"no_of_dates\"]*100\n",
        "    return result, 100 - df[\"variance_per\"].sum()/result[\"no_of_dates\"].sum(), result[\"no_of_dates\"]\n"
      ],
      "metadata": {
        "id": "2HealSw4BtRI"
      },
      "execution_count": null,
      "outputs": []
    },
    {
      "cell_type": "code",
      "source": [
        "#predicting the future prices\n",
        "start_time = time.time()\n",
        "best_model = load_model(checkpoint_filepath)\n",
        "val_predicted_price = best_model.predict(valx)\n",
        "val_predicted_price_copies = np.repeat(val_predicted_price, 20,axis=1)\n",
        "val_predicted_price = scaler.inverse_transform(val_predicted_price_copies)[:,0]\n",
        "valy_copies = np.repeat(valy.reshape(-1,1), 20,axis=1)\n",
        "val_true_price = scaler.inverse_transform(valy_copies)[:,0]\n",
        "print(\"predicting completed:\", time.time() - start_time)\n",
        "cum_results = pd.DataFrame({\"Date\":np.array(valdate), \"Collection\":np.array(valcollection),\"val_predicted_price\":val_predicted_price, \"val_true_price\":val_true_price})\n",
        "result_table , final_per,check = accuracy(cum_results,10)\n",
        "print(\"prediction accuracy\",final_per)\n",
        "result_table.to_csv('results.csv', index=False)\n",
        "cum_results.to_csv(\"full_results.csv\", index=False)\n",
        "\n",
        "print(check)\n",
        "\n",
        "#displaying results\n",
        "start_time = time.time()\n",
        "df_forecast = pd.DataFrame({\"Date\":np.array(valdate), \"val_predicted_price\":val_predicted_price})\n",
        "df_true = pd.DataFrame({\"Date\":np.array(valdate), \"val_true_price\":val_true_price})\n",
        "valunidates = np.unique(valdate)\n",
        "\n",
        "\n",
        "valuespred = [df_forecast.loc[df_forecast['Date'] == a, 'val_predicted_price'].sum() for a in valunidates]\n",
        "valuestrue = [df_true.loc[df_true['Date'] == a, 'val_true_price'].sum() for a in valunidates]\n",
        "\n",
        "valunidates = pd.to_datetime(valunidates, format='%Y-%m-%d')\n",
        "\n",
        "plt.plot(valunidates, valuespred, label=\"predicted values\")\n",
        "plt.plot(valunidates, valuestrue, label=\"true values\")\n",
        "\n",
        "plt.gca().xaxis.set_major_locator(mdates.DayLocator(interval=7))  # set ticks every 7 days\n",
        "plt.gca().xaxis.set_major_formatter(mdates.DateFormatter('%Y-%m-%d'))  # format dates as year-month-day\n",
        "\n",
        "# rotate the tick labels for better visibility\n",
        "plt.gcf().autofmt_xdate()\n",
        "\n",
        "plt.legend()\n",
        "plt.show()\n",
        "print(\"display results completed:\", time.time() - start_time)\n",
        "plt.savefig('my_plot.png')\n",
        "# download the file to your local computer\n",
        "files.download('my_plot.png')"
      ],
      "metadata": {
        "colab": {
          "base_uri": "https://localhost:8080/",
          "height": 685
        },
        "id": "ULfeJ41gBlQY",
        "outputId": "ea9f5f67-4f89-47d4-ab03-f166bf32e708"
      },
      "execution_count": null,
      "outputs": [
        {
          "output_type": "stream",
          "name": "stdout",
          "text": [
            "19/19 [==============================] - 1s 11ms/step\n"
          ]
        },
        {
          "output_type": "stream",
          "name": "stderr",
          "text": [
            "/usr/local/lib/python3.10/dist-packages/sklearn/preprocessing/_data.py:542: RuntimeWarning: overflow encountered in true_divide\n",
            "  X /= self.scale_\n"
          ]
        },
        {
          "output_type": "stream",
          "name": "stdout",
          "text": [
            "predicting completed: 6.491504430770874\n",
            "prediction accuracy 68.09231951522605\n",
            "0     74\n",
            "1    100\n",
            "2    100\n",
            "3     84\n",
            "4     87\n",
            "5    100\n",
            "6     60\n",
            "Name: no_of_dates, dtype: int64\n"
          ]
        },
        {
          "output_type": "display_data",
          "data": {
            "text/plain": [
              "<Figure size 640x480 with 1 Axes>"
            ],
            "image/png": "[encoded data removed]"
          },
          "metadata": {}
        },
        {
          "output_type": "stream",
          "name": "stdout",
          "text": [
            "display results completed: 0.37694215774536133\n"
          ]
        },
        {
          "output_type": "display_data",
          "data": {
            "text/plain": [
              "<IPython.core.display.Javascript object>"
            ],
            "application/javascript": [
              "\n",
              "    async function download(id, filename, size) {\n",
              "      if (!google.colab.kernel.accessAllowed) {\n",
              "        return;\n",
              "      }\n",
              "      const div = document.createElement('div');\n",
              "      const label = document.createElement('label');\n",
              "      label.textContent = `Downloading \"${filename}\": `;\n",
              "      div.appendChild(label);\n",
              "      const progress = document.createElement('progress');\n",
              "      progress.max = size;\n",
              "      div.appendChild(progress);\n",
              "      document.body.appendChild(div);\n",
              "\n",
              "      const buffers = [];\n",
              "      let downloaded = 0;\n",
              "\n",
              "      const channel = await google.colab.kernel.comms.open(id);\n",
              "      // Send a message to notify the kernel that we're ready.\n",
              "      channel.send({})\n",
              "\n",
              "      for await (const message of channel.messages) {\n",
              "        // Send a message to notify the kernel that we're ready.\n",
              "        channel.send({})\n",
              "        if (message.buffers) {\n",
              "          for (const buffer of message.buffers) {\n",
              "            buffers.push(buffer);\n",
              "            downloaded += buffer.byteLength;\n",
              "            progress.value = downloaded;\n",
              "          }\n",
              "        }\n",
              "      }\n",
              "      const blob = new Blob(buffers, {type: 'application/binary'});\n",
              "      const a = document.createElement('a');\n",
              "      a.href = window.URL.createObjectURL(blob);\n",
              "      a.download = filename;\n",
              "      div.appendChild(a);\n",
              "      a.click();\n",
              "      div.remove();\n",
              "    }\n",
              "  "
            ]
          },
          "metadata": {}
        },
        {
          "output_type": "display_data",
          "data": {
            "text/plain": [
              "<IPython.core.display.Javascript object>"
            ],
            "application/javascript": [
              "download(\"download_a0c69edd-0b6f-47e4-8f43-f284dfb01aa2\", \"my_plot.png\", 2396)"
            ]
          },
          "metadata": {}
        },
        {
          "output_type": "display_data",
          "data": {
            "text/plain": [
              "<Figure size 640x480 with 0 Axes>"
            ]
          },
          "metadata": {}
        }
      ]
    },
    {
      "cell_type": "code",
      "source": [
        "a, b, c = trainx.shape\n",
        "#for idx in range(len)\n",
        "\n",
        "with open('output.csv', mode='w', newline='') as file:\n",
        "  # Create a CSV writer object\n",
        "  writer = csv.writer(file)\n",
        "  for idx in range(a):\n",
        "    writer.writerow(np.array([traindate[idx],trainy[idx]]))\n",
        "    for num in range(b):\n",
        "      writer.writerow(trainx[idx][num])"
      ],
      "metadata": {
        "id": "aVO6aqJANRdy"
      },
      "execution_count": null,
      "outputs": []
    },
    {
      "cell_type": "code",
      "source": [
        "trainx[0][0]"
      ],
      "metadata": {
        "colab": {
          "base_uri": "https://localhost:8080/"
        },
        "id": "Cj000zAT9oNv",
        "outputId": "817bfccb-285a-4fef-a5d2-82892481cd89"
      },
      "execution_count": null,
      "outputs": [
        {
          "output_type": "execute_result",
          "data": {
            "text/plain": [
              "array([0.08982036, 0.08982036, 0.08982036, 0.08982036, 0.08982036,\n",
              "       0.08982036, 0.08982036, 0.08856089, 0.52585915, 0.54195514,\n",
              "       0.30933544, 0.59900945, 0.93017312, 0.21905299, 0.65129904,\n",
              "       0.43089858, 0.3057711 , 0.85961945, 0.        , 0.        ,\n",
              "       1.        ])"
            ]
          },
          "metadata": {},
          "execution_count": 52
        }
      ]
    }
  ]
}
